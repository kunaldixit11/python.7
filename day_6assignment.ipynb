{
 "cells": [
  {
   "cell_type": "code",
   "execution_count": 1,
   "metadata": {},
   "outputs": [],
   "source": [
    "# Createa bank account that has two attributes-ownerName and Balance\n",
    "# and has two  methods  deposit and withdraw \n",
    "# withdraw amount may not exceed the available balance"
   ]
  },
  {
   "cell_type": "code",
   "execution_count": 20,
   "metadata": {},
   "outputs": [],
   "source": [
    "class Account:\n",
    "    def __init__(self,owner,balance):\n",
    "        self.owner = owner\n",
    "        self.balance = balance\n",
    "    def __str__(self):\n",
    "        return 'Account owner:{owner}\\nAccount balance:{balance}'.format(owner=self.owner,balance=self.balance)\n",
    "    \n",
    "    def deposit(self,dp_money):\n",
    "        self.balance += dp_money\n",
    "        print('deposit accepted,your balance is {balance}'.format(balance=self.balance))\n",
    "        \n",
    "    def withdraw(self,wd_money):\n",
    "        if wd_money > self.balance:\n",
    "            print(\"funds unavailable!\")\n",
    "        else:\n",
    "            self.balance -= wd_money\n",
    "            print('withdrawal accepted, your balance is {balance}'.format(balance=self.balance))\n",
    "            "
   ]
  },
  {
   "cell_type": "code",
   "execution_count": 21,
   "metadata": {},
   "outputs": [],
   "source": [
    "acc1 = Account(\"Punit\",1000)"
   ]
  },
  {
   "cell_type": "code",
   "execution_count": 22,
   "metadata": {},
   "outputs": [
    {
     "name": "stdout",
     "output_type": "stream",
     "text": [
      "deposit accepted,your balance is 1500\n",
      "withdrawal accepted, your balance is 900\n"
     ]
    }
   ],
   "source": [
    "acc1.deposit(500)\n",
    "acc1.withdraw(600)"
   ]
  },
  {
   "cell_type": "code",
   "execution_count": 23,
   "metadata": {},
   "outputs": [
    {
     "name": "stdout",
     "output_type": "stream",
     "text": [
      "deposit accepted,your balance is 900\n",
      "funds unavailable!\n"
     ]
    }
   ],
   "source": [
    "acc1.deposit(0)\n",
    "acc1.withdraw(1000)"
   ]
  },
  {
   "cell_type": "code",
   "execution_count": 24,
   "metadata": {},
   "outputs": [],
   "source": [
    "# Create a class cone that has two attributes: R=radius,H=height\n",
    "# and two methods:\n",
    "# Volume= PI * r2,(h/3)\n",
    "# Surface area :base: PI * r2"
   ]
  },
  {
   "cell_type": "code",
   "execution_count": 24,
   "metadata": {},
   "outputs": [],
   "source": [
    "from math import pi\n",
    "from math import sqrt\n",
    "\n",
    "class cone:\n",
    "    \n",
    "    def __init__(self,radius=1.0,height=1.0):\n",
    "        self.radius = radius\n",
    "        self.height = height\n",
    "        \n",
    "    def __str__(self):\n",
    "        return 'the radius is:{radius}\\n and height is:{height} '.format(radius=self.radius,height=self.height)\n",
    "    \n",
    "    def __repr__(self):\n",
    "        return 'circle(radius={})'.format(self.radius)\n",
    "        return 'height(height={})'.format(self.height)\n",
    "    \n",
    "    def getVol(self):\n",
    "        vol= self.radius*self.radius*pi*self.height*1/3\n",
    "        print  (vol)  \n",
    "            \n",
    "    def getSurArea(self):\n",
    "        side = sqrt(self.radius*self.radius+self.height*self.height)\n",
    "        surArea = pi * self.radius * self.radius + pi * side* self.radius\n",
    "        print (surArea)\n",
    "         "
   ]
  },
  {
   "cell_type": "code",
   "execution_count": 25,
   "metadata": {},
   "outputs": [],
   "source": [
    "Area=cone(7,2)"
   ]
  },
  {
   "cell_type": "code",
   "execution_count": 26,
   "metadata": {},
   "outputs": [
    {
     "name": "stdout",
     "output_type": "stream",
     "text": [
      "314.0360182443304\n"
     ]
    }
   ],
   "source": [
    "Area.getSurArea()"
   ]
  },
  {
   "cell_type": "code",
   "execution_count": 27,
   "metadata": {},
   "outputs": [
    {
     "name": "stdout",
     "output_type": "stream",
     "text": [
      "102.62536001726657\n"
     ]
    }
   ],
   "source": [
    "Area.getVol()"
   ]
  },
  {
   "cell_type": "code",
   "execution_count": null,
   "metadata": {},
   "outputs": [],
   "source": []
  }
 ],
 "metadata": {
  "kernelspec": {
   "display_name": "Python 3",
   "language": "python",
   "name": "python3"
  },
  "language_info": {
   "codemirror_mode": {
    "name": "ipython",
    "version": 3
   },
   "file_extension": ".py",
   "mimetype": "text/x-python",
   "name": "python",
   "nbconvert_exporter": "python",
   "pygments_lexer": "ipython3",
   "version": "3.7.6"
  }
 },
 "nbformat": 4,
 "nbformat_minor": 4
}
