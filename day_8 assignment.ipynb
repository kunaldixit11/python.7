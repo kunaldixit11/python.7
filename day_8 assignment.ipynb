{
 "cells": [
  {
   "cell_type": "markdown",
   "metadata": {},
   "source": [
    "# Error Handling"
   ]
  },
  {
   "cell_type": "code",
   "execution_count": 1,
   "metadata": {},
   "outputs": [],
   "source": [
    "# For this challenge you need to develop a python program to open a file in read only mode \n",
    "# and try writing something into it and handle the subsequent errors using Execption Handling."
   ]
  },
  {
   "cell_type": "code",
   "execution_count": 2,
   "metadata": {},
   "outputs": [
    {
     "name": "stdout",
     "output_type": "stream",
     "text": [
      " Warning : you are not be able to write in this file-letsupgrade.txt\n"
     ]
    }
   ],
   "source": [
    " try :\n",
    "        file = open(\"letsupgrade.txt\",\"r\")\n",
    "        file.write(\" Hey I want to write in this text file\")\n",
    "        file.close()\n",
    "        print(\"success\")\n",
    "except IOError :\n",
    "    print (\" Warning : you are not be able to write in this file-letsupgrade.txt\")"
   ]
  },
  {
   "cell_type": "code",
   "execution_count": null,
   "metadata": {},
   "outputs": [],
   "source": []
  }
 ],
 "metadata": {
  "kernelspec": {
   "display_name": "Python 3",
   "language": "python",
   "name": "python3"
  },
  "language_info": {
   "codemirror_mode": {
    "name": "ipython",
    "version": 3
   },
   "file_extension": ".py",
   "mimetype": "text/x-python",
   "name": "python",
   "nbconvert_exporter": "python",
   "pygments_lexer": "ipython3",
   "version": "3.7.6"
  }
 },
 "nbformat": 4,
 "nbformat_minor": 4
}
