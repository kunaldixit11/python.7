{
 "cells": [
  {
   "cell_type": "markdown",
   "metadata": {},
   "source": [
    "# Armstrong  Number"
   ]
  },
  {
   "cell_type": "code",
   "execution_count": 1,
   "metadata": {},
   "outputs": [],
   "source": [
    "# Print the first armstrong number in the range of 1042000 to 702648265\n",
    "# and exit the loop as soon you encounter the first armstong number\n",
    "# use while loop"
   ]
  },
  {
   "cell_type": "code",
   "execution_count": 2,
   "metadata": {},
   "outputs": [
    {
     "name": "stdout",
     "output_type": "stream",
     "text": [
      "enter the lower range:1042000\n",
      "enter the upper range:702648265\n",
      "1741725\n"
     ]
    }
   ],
   "source": [
    "lower=int(input(\"enter the lower range:\"))\n",
    "upper=int(input('enter the upper range:'))\n",
    "for num in range(lower,upper+1):\n",
    "    sm=0\n",
    "    temp=num\n",
    "    order=len(str(num))\n",
    "    while temp>0:\n",
    "        digit=temp%10\n",
    "        sm=sm+digit**order\n",
    "        temp//=10\n",
    "    if num==sm:\n",
    "        print(num)\n",
    "        break"
   ]
  },
  {
   "cell_type": "code",
   "execution_count": null,
   "metadata": {},
   "outputs": [],
   "source": []
  },
  {
   "cell_type": "code",
   "execution_count": null,
   "metadata": {},
   "outputs": [],
   "source": []
  }
 ],
 "metadata": {
  "kernelspec": {
   "display_name": "Python 3",
   "language": "python",
   "name": "python3"
  },
  "language_info": {
   "codemirror_mode": {
    "name": "ipython",
    "version": 3
   },
   "file_extension": ".py",
   "mimetype": "text/x-python",
   "name": "python",
   "nbconvert_exporter": "python",
   "pygments_lexer": "ipython3",
   "version": "3.7.6"
  }
 },
 "nbformat": 4,
 "nbformat_minor": 4
}
